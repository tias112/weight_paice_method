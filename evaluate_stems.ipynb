{
 "cells": [
  {
   "cell_type": "code",
   "execution_count": 7,
   "metadata": {},
   "outputs": [],
   "source": [
    "import pandas as pd\n",
    "df = pd.read_csv(\"lemma/fr-lemmatizer.dict\",delimiter=\"\\t\")\n",
    "df.drop(df.columns[len(df.columns)-1], axis=1, inplace=True)\n",
    "df.to_csv(\"lemma/fr-lemmatizer-processed.dict\", sep='\\t',encoding='utf-8',index=False)\n"
   ]
  },
  {
   "cell_type": "code",
   "execution_count": 23,
   "metadata": {},
   "outputs": [
    {
     "name": "stdout",
     "output_type": "stream",
     "text": [
      "2907            Ø flexible\n",
      "2908            Ø flexible\n",
      "2909            Ø flexible\n",
      "2910            Ø flexible\n",
      "2911            Ø flexible\n",
      "                ...       \n",
      "3379728    Massey Ferguson\n",
      "3379729             Unimog\n",
      "3379730              Volvo\n",
      "3379731        New Holland\n",
      "3379732        Dana-Spicer\n",
      "Length: 3776356, dtype: object\n"
     ]
    }
   ],
   "source": [
    "import pandas as pd\n",
    "df = pd.read_csv(\"lemma/index-vocab/translation_table.csv.2433\",encoding='utf-8',delimiter=\";\",low_memory=False)\n",
    "df2 = pd.read_csv(\"lemma/index-vocab/item_model_make.csv.2433\",encoding='utf-8',delimiter=\";\",low_memory=False)\n",
    "\n",
    "# selecting rows based on condition\n",
    "rslt_df = df[df['lang'] == 'FR']\n",
    "\n",
    "#lang;desc;id;text;flag;version  \n",
    "#df2=rslt_df.drop(['lang','desc','id','flag','version'], axis=1)\n",
    "#print(df2)\n",
    "#df2.to_csv(\"lemma/vocab-1-fr.dict\", sep='\\t',encoding='utf-8',index=False)\n",
    "#result = pd.concat(frames)\n",
    "# Using pandas.concat to extend one column to multiple columns\n",
    "result = pd.concat([rslt_df['text'],df2['make']])\n",
    "print(result)\n",
    "result.to_csv(\"lemma/vocab-1-fr.dict\", sep='\\t',encoding='utf-8',index=False)"
   ]
  },
  {
   "cell_type": "code",
   "execution_count": 26,
   "metadata": {},
   "outputs": [
    {
     "data": {
      "text/plain": [
       "[('deere', 428988),\n",
       " ('john', 428956),\n",
       " ('massey', 419972),\n",
       " ('ferguson', 417673),\n",
       " ('claas', 330169),\n",
       " ('new', 289660),\n",
       " ('holland', 289542),\n",
       " ('case', 249700),\n",
       " ('ih', 248648),\n",
       " ('harvesting', 239785)]"
      ]
     },
     "execution_count": 26,
     "metadata": {},
     "output_type": "execute_result"
    }
   ],
   "source": [
    "import re\n",
    "from collections import Counter\n",
    "words = re.findall(r'\\w+', open('lemma/vocab-1-fr.dict',encoding='utf-8').read().lower())\n",
    "fr_vocab = Counter(words)\n",
    "fr_vocab.most_common(10)\n"
   ]
  },
  {
   "cell_type": "code",
   "execution_count": 39,
   "metadata": {},
   "outputs": [],
   "source": [
    "fr_vocab_lemmas = {spicy_stemmer.stem_word(word):fr_vocab[word] for word in list(fr_vocab.keys()) if len(word)>2}\n"
   ]
  },
  {
   "cell_type": "code",
   "execution_count": 42,
   "metadata": {},
   "outputs": [
    {
     "name": "stdout",
     "output_type": "stream",
     "text": [
      "47838\n",
      "42976\n"
     ]
    }
   ],
   "source": [
    "import csv\n",
    "with open('lemma/wordstat-fr.txt', 'w', encoding='utf-8') as f:\n",
    "    # using csv.writer method from CSV package\n",
    "    write = csv.writer(f)      \n",
    "    write.writerows(list(map(list, fr_vocab.items())))\n",
    "print(len(fr_vocab.keys()))\n",
    "\n",
    "with open('lemma/wordlemma-stat-fr.txt', 'w', encoding='utf-8') as f:\n",
    "    # using csv.writer method from CSV package\n",
    "    write = csv.writer(f)      \n",
    "    write.writerows(list(map(list, fr_vocab_lemmas.items())))\n",
    "print(len(fr_vocab_lemmas.keys()))"
   ]
  },
  {
   "cell_type": "markdown",
   "metadata": {},
   "source": [
    "## Read vocabs from solr "
   ]
  },
  {
   "cell_type": "code",
   "execution_count": 3,
   "metadata": {},
   "outputs": [
    {
     "name": "stdout",
     "output_type": "stream",
     "text": [
      "0\n",
      "417673\n"
     ]
    }
   ],
   "source": [
    "from collections import defaultdict\n",
    "\n",
    "with open('lemma/wordlemma-stat-fr.csv', 'r', encoding=\"utf8\") as file:\n",
    "    d = {line.rstrip('\\n').split(',')[0]:int(line.rstrip('\\n').split(',')[1]) for line in file.readlines()}\n",
    "    fr_vocab_lemmas = defaultdict(lambda:0, d)\n",
    "    print(fr_vocab_lemmas['a'])\n",
    "    print(fr_vocab_lemmas['ferguson'])"
   ]
  },
  {
   "cell_type": "code",
   "execution_count": 4,
   "metadata": {},
   "outputs": [
    {
     "data": {
      "text/plain": [
       "{'numFound': 1, 'ids': ['50554053']}"
      ]
     },
     "execution_count": 4,
     "metadata": {},
     "output_type": "execute_result"
    }
   ],
   "source": [
    "from solr_client import SolrClient\n",
    "solr1 = SolrClient('localhost',8986)\n",
    "solr2 = SolrClient('be-plw-tst-0050',8983)\n",
    "solr2.auth(\"solr\",\"SolrRocks\")\n",
    "solr1.auth(\"solr\",\"SolrRocks\")\n",
    "#solr2 = SolrClient('localhost',8981)\n",
    "solr2.search('textsearch', 'STARTVEILIGHEIDSSCHAKELAAR','nl')"
   ]
  },
  {
   "cell_type": "code",
   "execution_count": 5,
   "metadata": {},
   "outputs": [
    {
     "name": "stdout",
     "output_type": "stream",
     "text": [
      "type1_mbf_fr.csv ['durite', 'siege', 'batterie', 'dewalt', 'al', 'peinture', 'echappement', 'rotule', 'courroie', 're']\n",
      "type2_mbf_fr.csv ['camera', 'cable accelerateur', 'contacteur de demarrage', 'tube echappement', 'contacteur demarrage', 'cable embrayage', 'cle dynamometrique', 'cameras', 'camera de recul', 'cable demarrage']\n"
     ]
    }
   ],
   "source": [
    "import os\n",
    "\n",
    "#root = 'queries'\n",
    "#root = 'top_mbf'\n",
    "#root = 'hybrid_syn'\n",
    "root = 'french'\n",
    "#root=\"french_plural\"\n",
    "start_records=0\n",
    "max_records = 3000\n",
    "#root = 'top_mbf'\n",
    "listOfFiles = list()\n",
    "for (dirpath, dirnames, filenames) in os.walk(root):\n",
    "    listOfFiles += [os.path.join(dirpath, file) for file in filenames if file.strip().endswith('.txt') or file.strip().endswith('.csv')]\n",
    "\n",
    "datasets = {}\n",
    "for f in listOfFiles:\n",
    "    filename = os.path.basename(f)\n",
    "    queries = []\n",
    "    with open(f, 'r', encoding=\"utf8\") as file:\n",
    "        lines = [line.rstrip('\\n') for line in file.readlines() if not line.startswith('#')]\n",
    "        for line in lines[start_records:max_records]:\n",
    "            queries.extend([phrase.split('=')[0] for phrase in line.split(',') if not 'filter_' in phrase and not '\\\\' in phrase])\n",
    "    datasets[filename] = queries\n",
    "for filename in datasets.keys():\n",
    "    print(filename, datasets[os.path.basename(filename)][0:10])\n"
   ]
  },
  {
   "cell_type": "code",
   "execution_count": 14,
   "metadata": {},
   "outputs": [
    {
     "name": "stdout",
     "output_type": "stream",
     "text": [
      "type1_mbf_fr.csv fr\n",
      "ressort,ressort,resort,ressortir,2794,,,,\n",
      "joint,joint,joint,joindre,1,,,,\n",
      "masse,masse,mase,mer,18,,,,\n",
      "joint torique,joint,joint,joindre,1,,,,\n",
      "vis,vis,vis,vivre,11,,,,\n",
      "joint cuivre,joint,joint,joindre,1,,,,\n",
      "prise,prise,pris,prendre,43,,,,\n",
      "balai,balai,balai,baler,200,372,352,,HIGH\n",
      "cha,cha,cha,cher,2,,,,\n",
      "joint injecteur,joint,joint,joindre,1,,,,\n",
      "servante,servante,servant,serviteur,140,,,,\n",
      "joint ,joint,joint,joindre,1,,,,\n",
      "essuie glace,essuie,esu,essuyer,521,193,188,,HIGH\n",
      "masse avant,masse,mase,mer,18,,,,\n",
      "balais,balais,balai,baler,200,372,352,,HIGH\n",
      "optima,optima,optima,optimum,7,,,,\n",
      "la buvette,la,,ler,31,,,,\n",
      "tuyaux,tuyaux,tuyal,tuyau,122,,,,\n",
      "relai,relai,relai,reler,21,,,,\n",
      "bellota,bellota,belota,belloter,4,,,,\n",
      "vis creuse,vis,vis,vivre,11,,,,\n",
      "vis creuse,creuse,creu,creuser,84,,,,\n",
      "joint echappement,joint,joint,joindre,1,,,,\n",
      "prise de force,prise,pris,prendre,43,,,,\n",
      "passe cloison,passe,pase,per,297,,,,\n",
      "joint toriques,joint,joint,joindre,1,,,,\n",
      "joints,joints,joint,joindre,1389,,,,\n",
      "etaux,etaux,etau,etal,17,,,,\n",
      "cale,cale,cale,caler,3,,,,\n",
      "vis banjo,vis,vis,vivre,11,,,,\n",
      "joint tige,joint,joint,joindre,1,,,,\n",
      "dis,dis,dis,dire,2,,,,\n",
      "clim,clim,clim,climatisation,57,,,,\n",
      "batterie optima,optima,optima,optimum,7,,,,\n",
      "prise electrique,prise,pris,prendre,43,,,,\n",
      "joint plat,joint,joint,joindre,1,,,,\n",
      "voyant,voyant,voyant,voir,7,,,,\n",
      "buses,buses,buse,buser,1940,,,,\n",
      "joint vitre,joint,joint,joindre,1,,,,\n",
      "bras,bras,bra,brer,172,1920,1892,,HIGH\n",
      "pointe,pointe,point,poindre,44,,,,\n",
      "tra,tra,tra,trer,1,,,,\n",
      "msg,msg,msg,message,116,,,,\n",
      "grai,grai,grai,grer,1,,,,\n",
      "vase expansion,vase,vase,vaser,142,,,,\n",
      "chasse goupille,chasse,chas,cher,8,,,,\n",
      "kubota,kubota,kubota,kuboter,21563,,,,\n",
      "gps,gps,gps,gp,23,,,,\n",
      "racc,racc,racc,rac,308,495,37,,HIGH\n",
      "gys,gys,gys,gy,15,,,,\n",
      "ams,ams,ams,amen,2,,,,\n",
      "prise ,prise,pris,prendre,43,,,,\n",
      "pre,pre,pre,prer,78,,,,\n",
      "degrippant,degrippant,degripant,degripper,7,,,,\n",
      "bras relevage,bras,bra,brer,172,,,,\n",
      "arbre de prise de force,prise,pris,prendre,43,,,,\n",
      "vis inox,vis,vis,vivre,11,,,,\n",
      "joint piston,joint,joint,joindre,1,,,,\n",
      "vase,vase,vase,vaser,142,,,,\n",
      "joint papier,joint,joint,joindre,1,,,,\n",
      "balai essuie glace,balai,balai,baler,200,,,,\n",
      "balai essuie glace,essuie,esu,essuyer,521,,,,\n",
      "pas,pas,,per,146,66,0,,HIGH\n",
      "bras retroviseur,bras,bra,brer,172,,,,\n",
      "vis tete fraisee,vis,vis,vivre,11,,,,\n",
      "loc,loc,loc,locataire,10,,,,\n",
      "batte,batte,bate,battre,61,,,,\n",
      "manchon prise de force,prise,pris,prendre,1,,,,\n",
      "skf,skf,skf,s,3,,,,\n",
      "goupille fendues,fendues,fendu,fendre,4,,,,\n",
      "arbre prise de force,prise,pris,prendre,1,,,,\n",
      "cla,cla,cla,cler,1,,,,\n",
      "prises,prises,pris,prendre,43,,,,\n",
      "peint,peint,peint,peindre,7,,,,\n",
      "cle male,male,male,mal,6,,,,\n",
      "joint pompe injection,joint,joint,joindre,1,,,,\n",
      "vis bois,vis,vis,vivre,11,,,,\n",
      "bras essuie glace,bras,bra,brer,172,,,,\n",
      "bras essuie glace,essuie,esu,essuyer,3,,,,\n",
      "texa,texa,texa,texer,13,,,,\n",
      "essuie,essuie,esu,essuyer,521,196,194,,HIGH\n",
      "tti,tti,tti,ttir,313,,,,\n",
      "prise hydraulique,prise,pris,prendre,43,,,,\n",
      "beta,beta,beta,beter,3,,,,\n",
      "crois,crois,croi,croire,22,,,,\n",
      "boit,boit,boit,boire,1,,,,\n",
      "vase d'expansion,vase,vase,vaser,142,,,,\n",
      "cone,cone,cone,coner,1,,,,\n",
      "vis autoforante,vis,vis,vivre,11,,,,\n",
      "joint sp,joint,joint,joindre,1,,,,\n",
      "servantes,servantes,servant,serviteur,9,,,,\n",
      "assise,assise,asis,asseoir,2,,,,\n",
      "rel,rel,rel,rele,5,,,,\n",
      "xpa,xpa,xpa,xper,32,,,,\n",
      "chasse,chasse,chas,cher,8,,,,\n",
      "joint hydraulique,joint,joint,joindre,1,,,,\n",
      "prise remorque,prise,pris,prendre,43,,,,\n",
      "fus,fus,,être,2,,,,\n",
      "asa,asa,asa,aser,141,,,,\n",
      "coupleur male,male,male,mal,6,,,,\n",
      "niaux,niaux,niau,nial,7,,,,\n",
      "vis th,vis,vis,vivre,11,,,,\n",
      "vis unc,vis,vis,vivre,11,,,,\n",
      "chasse goupilles,chasse,chas,cher,8,,,,\n",
      "ressort ,ressort,resort,ressortir,2794,,,,\n",
      "joint to,joint,joint,joindre,1,,,,\n",
      "joint pompe,joint,joint,joindre,1,,,,\n",
      "joint cardan,joint,joint,joindre,1,,,,\n",
      "ressort frein,ressort,resort,ressortir,252,136,149,,HIGH\n",
      "pointe carbure,pointe,point,poindre,44,,,,\n",
      "produit,produit,produit,produire,114,,,,\n",
      "pis,pis,pis,pir,7,,,,\n",
      "masse ,masse,mase,mer,18,,,,\n",
      "joint injecteurs,joint,joint,joindre,1,,,,\n",
      "joint torique ,joint,joint,joindre,1,,,,\n",
      "vis autoforantes,vis,vis,vivre,11,,,,\n",
      "int,int,int,enir,867,4843,4999,,HIGH\n",
      "pate,pate,pate,pater,20,,,,\n",
      "abs,abs,abs,ab,27,,,,\n",
      "carda,carda,carda,carder,1,,,,\n",
      "vis de purge,vis,vis,vivre,11,,,,\n",
      "balais essuie glace,balais,balai,baler,200,,,,\n",
      "balais essuie glace,essuie,esu,essuyer,521,,,,\n",
      "durite inferieure,inferieure,inferieur,inferieur,290,,,,\n",
      "aps,aps,aps,ap,55,,,,\n",
      "joint cabine,joint,joint,joindre,1,,,,\n",
      "joint turbo,joint,joint,joindre,1,,,,\n",
      "joint d'injecteur,joint,joint,joindre,1,,,,\n",
      "prise allume cigare,prise,pris,prendre,43,,,,\n",
      "ressort de frein,ressort,resort,ressortir,2794,136,149,,HIGH\n",
      "mas,mas,mas,ma,11,,,,\n",
      "valtra,valtra,valtra,valtrer,39524,,,,\n",
      "mise de soc,mise,mise,mettre,4,,,,\n",
      "ada,ada,ada,ader,4,,,,\n",
      "avi,avi,avi,avir,56,,,,\n",
      "joint tor,joint,joint,joindre,1,,,,\n",
      "prise electricité,prise,pris,prendre,43,,,,\n",
      "cale epaisseur,cale,cale,caler,29,,,,\n",
      "joints cuivre,joints,joint,joindre,1389,,,,\n",
      "aut,aut,aut,aloir,44,,,,\n",
      "pare brise,pare,pare,parer,1690,,,,\n",
      "goupilles fendues,fendues,fendu,fendre,4,,,,\n",
      "degraissant,degraissant,degrai,degraisser,12,,,,\n",
      "tri,tri,tri,trir,63,,,,\n",
      "joint echapement,joint,joint,joindre,1,,,,\n",
      "joints toriques,joints,joint,joindre,1389,,,,\n",
      "pointes,pointes,point,poindre,44,,,,\n",
      "elora,elora,elora,elorer,24,,,,\n",
      "pale,pale,pale,pal,9,,,,\n",
      "bande reflechissante,reflechissante,reflechisant,reflechissant,3,,,,\n",
      "vis tete fraisée,vis,vis,vivre,11,,,,\n",
      "ressort embrayage,ressort,resort,ressortir,2794,,,,\n",
      "bep,bep,bep,be,29,,,,\n",
      "vis creuses,vis,vis,vivre,11,,,,\n",
      "nez injecteur,nez,nez,ner,555,,,,\n",
      "sole,sole,sole,soler,23,,,,\n",
      "leve roue,leve,leve,lev,9,,,,\n",
      "joint verrin,joint,joint,joindre,1,,,,\n",
      "inte,inte,inte,int,1,,,,\n",
      "pla,pla,pla,pler,3,,,,\n",
      "prise hydrauliques,prise,pris,prendre,43,,,,\n",
      "servante atelier,servante,servant,serviteur,140,,,,\n",
      "joint soupape,joint,joint,joindre,1,,,,\n",
      "joint collecteur,joint,joint,joindre,1,,,,\n",
      "bras essuie,bras,bra,brer,172,,,,\n",
      "bras essuie,essuie,esu,essuyer,3,,,,\n",
      "vis autoperforante,vis,vis,vivre,11,,,,\n",
      "prise allume,prise,pris,prendre,43,,,,\n",
      "bbs,bbs,bbs,bb,54,,,,\n",
      "lave gla,gla,gla,gler,1,,,,\n",
      "bouchon male,male,male,mal,6,,,,\n",
      "ressort de rappel,ressort,resort,ressortir,2794,22,21,,HIGH\n",
      "pris,pris,pri,prendre,1,,,,\n",
      "conne,conne,cone,con,4,,,,\n",
      "prise de pression,prise,pris,prendre,43,,,,\n",
      "centrale cligno,cligno,cligno,clignotant,1,,,,\n",
      "joint fibre,joint,joint,joindre,1,,,,\n",
      "vis cylindrique,vis,vis,vivre,11,,,,\n",
      "sus,sus,sus,savoir,2,,,,\n",
      "joint climatisation,joint,joint,joindre,1,,,,\n",
      "vis tole,vis,vis,vivre,7,,,,\n",
      "bom,bom,bom,bo,9,,,,\n",
      "prise male,prise,pris,prendre,43,,,,\n",
      "prise male,male,male,mal,6,,,,\n",
      "type2_mbf_fr.csv fr\n",
      "camera,camera,camera,camer,85,,,,\n",
      "cameras,cameras,camera,camer,1,,,,\n",
      "kit camera,camera,camera,camer,85,,,,\n",
      "ressort pedale,ressort,resort,ressortir,2794,,,,\n",
      "cable prise de force,prise,pris,prendre,1,,,,\n",
      "camera ams,camera,camera,camer,85,,,,\n",
      "camera ams,ams,ams,amen,2,,,,\n",
      "cable camera,camera,camera,camer,1,,,,\n",
      "ressort de pedale,ressort,resort,ressortir,2794,,,,\n",
      "ressort pedale embrayage,ressort,resort,ressortir,2794,,,,\n",
      "tube prise de force,prise,pris,prendre,1,,,,\n",
      "ressort pedale de frein,ressort,resort,ressortir,2794,,,,\n",
      "camera ,camera,camera,camer,85,,,,\n",
      "camera sans fil,camera,camera,camer,85,,,,\n",
      "camera sans fil,sans,,san,2113,,,,\n",
      "camera inspection,camera,camera,camer,85,,,,\n",
      "ressort pedale frein,ressort,resort,ressortir,252,,,,\n",
      "cable de prise de force,prise,pris,prendre,43,,,,\n",
      "decapant,decapant,decapant,decaper,1,,,,\n",
      "kubota contacteur,kubota,kubota,kuboter,21563,17,18,,HIGH\n",
      "ams camera,ams,ams,amen,2,,,,\n",
      "ams camera,camera,camera,camer,85,,,,\n",
      "capteur prise de force,prise,pris,prendre,1,,,,\n",
      "camera surveillance,camera,camera,camer,85,,,,\n",
      "contacteur kubota,kubota,kubota,kuboter,21563,17,18,,HIGH\n",
      "ressort de pedale embrayage,ressort,resort,ressortir,2794,,,,\n",
      "cable camera,camera,camera,camer,1,,,,\n",
      "ressort chisel,ressort,resort,ressortir,252,7,9,,HIGH\n",
      "contacteur prise de force,prise,pris,prendre,1,,,,\n",
      "cable prise force,prise,pris,prendre,43,,,,\n",
      "coupleur femelle filet male,male,male,mal,6,,,,\n",
      "capteur de prise de force,prise,pris,prendre,43,,,,\n",
      "ressort pedal,ressort,resort,ressortir,2794,52,53,,HIGH\n",
      "ressort pedale accelerateur,ressort,resort,ressortir,252,,,,\n",
      "ressort pedale d'embrayage,ressort,resort,ressortir,2794,,,,\n"
     ]
    },
    {
     "name": "stdout",
     "output_type": "stream",
     "text": [
      "camera san,camera,camera,camer,85,,,,\n",
      "ressort pedale emb,ressort,resort,ressortir,2794,,,,\n",
      "ressort rappel pedale,ressort,resort,ressortir,252,,,,\n",
      "kit camera sans fil,camera,camera,camer,1,,,,\n",
      "kit camera sans fil,sans,,san,2113,,,,\n",
      "ecran camera,camera,camera,camer,85,,,,\n",
      "camera cable,camera,camera,camer,85,,,,\n",
      "tube de prise de force,prise,pris,prendre,43,,,,\n",
      "camera rec,camera,camera,camer,1,,,,\n",
      "ressort case pedale,ressort,resort,ressortir,252,,,,\n",
      "ressort pedale de frein tracteur ih,ressort,resort,ressortir,2794,,,,\n",
      "ressort pedale ,ressort,resort,ressortir,2794,,,,\n",
      "camera sur,camera,camera,camer,85,,,,\n",
      "camera de recul sans fil,sans,,san,2113,,,,\n",
      "turbo kubota,kubota,kubota,kuboter,21563,,,,\n",
      "cable de camera,camera,camera,camer,85,,,,\n",
      "decapant soudure,decapant,decapant,decaper,1,,,,\n",
      "cable kubota,kubota,kubota,kuboter,21563,,,,\n",
      "champ magnetique,champ,champ,champagne,1,,,,\n",
      "support camera,camera,camera,camer,85,,,,\n",
      "camera sa,camera,camera,camer,85,,,,\n",
      "cable embrayage prise de force,prise,pris,prendre,1,,,,\n",
      "camera sans fils,camera,camera,camer,85,,,,\n",
      "camera sans fils,sans,,san,2113,,,,\n",
      "cable embrayage prise de force renaultclaas,prise,pris,prendre,1,,,,\n",
      "cable prise de force ,prise,pris,prendre,1,,,,\n",
      "ressort pedale embray,ressort,resort,ressortir,2794,,,,\n",
      "film camera,camera,camera,camer,85,,,,\n",
      "capteur kubota,kubota,kubota,kuboter,21563,,,,\n",
      "ressort pedale em,ressort,resort,ressortir,2794,,,,\n",
      "cable embrayage pr,pr,pr,pour,7593,190,0,,HIGH\n",
      "vis double filetage,vis,vis,vivre,11,,,,\n",
      "camera ins,camera,camera,camer,85,,,,\n",
      "camera ins,ins,ins,in,18,,,,\n",
      "traitement gas,gas,gas,ga-octet,76,,,,\n",
      "tube prise de force bondioli,prise,pris,prendre,1,,,,\n",
      "ressort pedale embrayage ,ressort,resort,ressortir,2794,,,,\n",
      "kubota thermostat,kubota,kubota,kuboter,21563,,,,\n",
      "camera am,camera,camera,camer,85,,,,\n",
      "camera thermique,camera,camera,camer,85,,,,\n",
      "cable embrayage prise de fo,prise,pris,prendre,1,,,,\n",
      "decapant ,decapant,decapant,decaper,1,,,,\n",
      "decapant peinture,decapant,decapant,decaper,1,,,,\n",
      "capteur pression d'huile renault,renault,renault,'huile,90308,,,,\n",
      "camera phare,camera,camera,camer,85,,,,\n",
      "ressort pedale embrayage same,ressort,resort,ressortir,2794,,,,\n",
      "produit decape,produit,produit,produire,114,,,,\n",
      "turbo toyota,toyota,toyota,toyoter,39,,,,\n",
      "ressort pedale de fre,ressort,resort,ressortir,2794,,,,\n",
      "camera recul sans fil,sans,,san,2113,,,,\n",
      "ressort pedale fre,ressort,resort,ressortir,252,,,,\n",
      "lsa turbomatik,lsa,lsa,lser,5,,,,\n",
      "ressort pedale frein case,ressort,resort,ressortir,2794,,,,\n",
      "cable de prise de force ,prise,pris,prendre,43,,,,\n",
      "cable embrayage prise de force fi,prise,pris,prendre,1,,,,\n",
      "ressort de chisel,ressort,resort,ressortir,2794,7,9,,HIGH\n",
      "ressort pedale embrayage,ressort,resort,ressortir,2794,,,,\n",
      "ams kit camera,ams,ams,amen,2,,,,\n",
      "ams kit camera,camera,camera,camer,85,,,,\n",
      "camera sans ,camera,camera,camer,85,,,,\n",
      "camera sans ,sans,,san,2113,2736,166,,HIGH\n",
      "contacteur pour prise de force,prise,pris,prendre,43,,,,\n",
      "ressort faneuse,ressort,resort,ressortir,252,,,,\n",
      "cable camera ams,camera,camera,camer,85,,,,\n",
      "cable camera ams,ams,ams,amen,2,,,,\n",
      "capuchon de prise de force,prise,pris,prendre,43,,,,\n",
      "elora dynamometrique,elora,elora,elorer,24,,,,\n",
      "turbo mwm.,mwm.,mwm.,mwm,23759,,,,\n",
      "ressort pedale embra,ressort,resort,ressortir,2794,,,,\n",
      "contacteur de demarrage sans prechauffage,sans,,san,2113,,,,\n",
      "ressort cabine,ressort,resort,ressortir,2794,,,,\n"
     ]
    },
    {
     "ename": "ChunkedEncodingError",
     "evalue": "(\"Connection broken: ConnectionAbortedError(10053, 'An established connection was aborted by the software in your host machine', None, 10053, None)\", ConnectionAbortedError(10053, 'An established connection was aborted by the software in your host machine', None, 10053, None))",
     "output_type": "error",
     "traceback": [
      "\u001b[1;31m---------------------------------------------------------------------------\u001b[0m",
      "\u001b[1;31mConnectionAbortedError\u001b[0m                    Traceback (most recent call last)",
      "\u001b[1;32mc:\\projects\\tvh-search-labeling\\venv\\lib\\site-packages\\urllib3\\response.py\u001b[0m in \u001b[0;36m_error_catcher\u001b[1;34m(self)\u001b[0m\n\u001b[0;32m    359\u001b[0m             \u001b[1;32mtry\u001b[0m\u001b[1;33m:\u001b[0m\u001b[1;33m\u001b[0m\u001b[1;33m\u001b[0m\u001b[0m\n\u001b[1;32m--> 360\u001b[1;33m                 \u001b[1;32myield\u001b[0m\u001b[1;33m\u001b[0m\u001b[1;33m\u001b[0m\u001b[0m\n\u001b[0m\u001b[0;32m    361\u001b[0m \u001b[1;33m\u001b[0m\u001b[0m\n",
      "\u001b[1;32mc:\\projects\\tvh-search-labeling\\venv\\lib\\site-packages\\urllib3\\response.py\u001b[0m in \u001b[0;36mread_chunked\u001b[1;34m(self, amt, decode_content)\u001b[0m\n\u001b[0;32m    668\u001b[0m                     \u001b[1;32mbreak\u001b[0m\u001b[1;33m\u001b[0m\u001b[1;33m\u001b[0m\u001b[0m\n\u001b[1;32m--> 669\u001b[1;33m                 \u001b[0mchunk\u001b[0m \u001b[1;33m=\u001b[0m \u001b[0mself\u001b[0m\u001b[1;33m.\u001b[0m\u001b[0m_handle_chunk\u001b[0m\u001b[1;33m(\u001b[0m\u001b[0mamt\u001b[0m\u001b[1;33m)\u001b[0m\u001b[1;33m\u001b[0m\u001b[1;33m\u001b[0m\u001b[0m\n\u001b[0m\u001b[0;32m    670\u001b[0m                 decoded = self._decode(chunk, decode_content=decode_content,\n",
      "\u001b[1;32mc:\\projects\\tvh-search-labeling\\venv\\lib\\site-packages\\urllib3\\response.py\u001b[0m in \u001b[0;36m_handle_chunk\u001b[1;34m(self, amt)\u001b[0m\n\u001b[0;32m    614\u001b[0m         \u001b[1;32melif\u001b[0m \u001b[0mamt\u001b[0m \u001b[1;33m<\u001b[0m \u001b[0mself\u001b[0m\u001b[1;33m.\u001b[0m\u001b[0mchunk_left\u001b[0m\u001b[1;33m:\u001b[0m\u001b[1;33m\u001b[0m\u001b[1;33m\u001b[0m\u001b[0m\n\u001b[1;32m--> 615\u001b[1;33m             \u001b[0mvalue\u001b[0m \u001b[1;33m=\u001b[0m \u001b[0mself\u001b[0m\u001b[1;33m.\u001b[0m\u001b[0m_fp\u001b[0m\u001b[1;33m.\u001b[0m\u001b[0m_safe_read\u001b[0m\u001b[1;33m(\u001b[0m\u001b[0mamt\u001b[0m\u001b[1;33m)\u001b[0m\u001b[1;33m\u001b[0m\u001b[1;33m\u001b[0m\u001b[0m\n\u001b[0m\u001b[0;32m    616\u001b[0m             \u001b[0mself\u001b[0m\u001b[1;33m.\u001b[0m\u001b[0mchunk_left\u001b[0m \u001b[1;33m=\u001b[0m \u001b[0mself\u001b[0m\u001b[1;33m.\u001b[0m\u001b[0mchunk_left\u001b[0m \u001b[1;33m-\u001b[0m \u001b[0mamt\u001b[0m\u001b[1;33m\u001b[0m\u001b[1;33m\u001b[0m\u001b[0m\n",
      "\u001b[1;32mC:\\tools\\Python\\Python37\\lib\\http\\client.py\u001b[0m in \u001b[0;36m_safe_read\u001b[1;34m(self, amt)\u001b[0m\n\u001b[0;32m    619\u001b[0m         \u001b[1;32mwhile\u001b[0m \u001b[0mamt\u001b[0m \u001b[1;33m>\u001b[0m \u001b[1;36m0\u001b[0m\u001b[1;33m:\u001b[0m\u001b[1;33m\u001b[0m\u001b[1;33m\u001b[0m\u001b[0m\n\u001b[1;32m--> 620\u001b[1;33m             \u001b[0mchunk\u001b[0m \u001b[1;33m=\u001b[0m \u001b[0mself\u001b[0m\u001b[1;33m.\u001b[0m\u001b[0mfp\u001b[0m\u001b[1;33m.\u001b[0m\u001b[0mread\u001b[0m\u001b[1;33m(\u001b[0m\u001b[0mmin\u001b[0m\u001b[1;33m(\u001b[0m\u001b[0mamt\u001b[0m\u001b[1;33m,\u001b[0m \u001b[0mMAXAMOUNT\u001b[0m\u001b[1;33m)\u001b[0m\u001b[1;33m)\u001b[0m\u001b[1;33m\u001b[0m\u001b[1;33m\u001b[0m\u001b[0m\n\u001b[0m\u001b[0;32m    621\u001b[0m             \u001b[1;32mif\u001b[0m \u001b[1;32mnot\u001b[0m \u001b[0mchunk\u001b[0m\u001b[1;33m:\u001b[0m\u001b[1;33m\u001b[0m\u001b[1;33m\u001b[0m\u001b[0m\n",
      "\u001b[1;32mC:\\tools\\Python\\Python37\\lib\\socket.py\u001b[0m in \u001b[0;36mreadinto\u001b[1;34m(self, b)\u001b[0m\n\u001b[0;32m    588\u001b[0m             \u001b[1;32mtry\u001b[0m\u001b[1;33m:\u001b[0m\u001b[1;33m\u001b[0m\u001b[1;33m\u001b[0m\u001b[0m\n\u001b[1;32m--> 589\u001b[1;33m                 \u001b[1;32mreturn\u001b[0m \u001b[0mself\u001b[0m\u001b[1;33m.\u001b[0m\u001b[0m_sock\u001b[0m\u001b[1;33m.\u001b[0m\u001b[0mrecv_into\u001b[0m\u001b[1;33m(\u001b[0m\u001b[0mb\u001b[0m\u001b[1;33m)\u001b[0m\u001b[1;33m\u001b[0m\u001b[1;33m\u001b[0m\u001b[0m\n\u001b[0m\u001b[0;32m    590\u001b[0m             \u001b[1;32mexcept\u001b[0m \u001b[0mtimeout\u001b[0m\u001b[1;33m:\u001b[0m\u001b[1;33m\u001b[0m\u001b[1;33m\u001b[0m\u001b[0m\n",
      "\u001b[1;31mConnectionAbortedError\u001b[0m: [WinError 10053] An established connection was aborted by the software in your host machine",
      "\nDuring handling of the above exception, another exception occurred:\n",
      "\u001b[1;31mProtocolError\u001b[0m                             Traceback (most recent call last)",
      "\u001b[1;32mc:\\projects\\tvh-search-labeling\\venv\\lib\\site-packages\\requests\\models.py\u001b[0m in \u001b[0;36mgenerate\u001b[1;34m()\u001b[0m\n\u001b[0;32m    749\u001b[0m                 \u001b[1;32mtry\u001b[0m\u001b[1;33m:\u001b[0m\u001b[1;33m\u001b[0m\u001b[1;33m\u001b[0m\u001b[0m\n\u001b[1;32m--> 750\u001b[1;33m                     \u001b[1;32mfor\u001b[0m \u001b[0mchunk\u001b[0m \u001b[1;32min\u001b[0m \u001b[0mself\u001b[0m\u001b[1;33m.\u001b[0m\u001b[0mraw\u001b[0m\u001b[1;33m.\u001b[0m\u001b[0mstream\u001b[0m\u001b[1;33m(\u001b[0m\u001b[0mchunk_size\u001b[0m\u001b[1;33m,\u001b[0m \u001b[0mdecode_content\u001b[0m\u001b[1;33m=\u001b[0m\u001b[1;32mTrue\u001b[0m\u001b[1;33m)\u001b[0m\u001b[1;33m:\u001b[0m\u001b[1;33m\u001b[0m\u001b[1;33m\u001b[0m\u001b[0m\n\u001b[0m\u001b[0;32m    751\u001b[0m                         \u001b[1;32myield\u001b[0m \u001b[0mchunk\u001b[0m\u001b[1;33m\u001b[0m\u001b[1;33m\u001b[0m\u001b[0m\n",
      "\u001b[1;32mc:\\projects\\tvh-search-labeling\\venv\\lib\\site-packages\\urllib3\\response.py\u001b[0m in \u001b[0;36mstream\u001b[1;34m(self, amt, decode_content)\u001b[0m\n\u001b[0;32m    489\u001b[0m         \u001b[1;32mif\u001b[0m \u001b[0mself\u001b[0m\u001b[1;33m.\u001b[0m\u001b[0mchunked\u001b[0m \u001b[1;32mand\u001b[0m \u001b[0mself\u001b[0m\u001b[1;33m.\u001b[0m\u001b[0msupports_chunked_reads\u001b[0m\u001b[1;33m(\u001b[0m\u001b[1;33m)\u001b[0m\u001b[1;33m:\u001b[0m\u001b[1;33m\u001b[0m\u001b[1;33m\u001b[0m\u001b[0m\n\u001b[1;32m--> 490\u001b[1;33m             \u001b[1;32mfor\u001b[0m \u001b[0mline\u001b[0m \u001b[1;32min\u001b[0m \u001b[0mself\u001b[0m\u001b[1;33m.\u001b[0m\u001b[0mread_chunked\u001b[0m\u001b[1;33m(\u001b[0m\u001b[0mamt\u001b[0m\u001b[1;33m,\u001b[0m \u001b[0mdecode_content\u001b[0m\u001b[1;33m=\u001b[0m\u001b[0mdecode_content\u001b[0m\u001b[1;33m)\u001b[0m\u001b[1;33m:\u001b[0m\u001b[1;33m\u001b[0m\u001b[1;33m\u001b[0m\u001b[0m\n\u001b[0m\u001b[0;32m    491\u001b[0m                 \u001b[1;32myield\u001b[0m \u001b[0mline\u001b[0m\u001b[1;33m\u001b[0m\u001b[1;33m\u001b[0m\u001b[0m\n",
      "\u001b[1;32mc:\\projects\\tvh-search-labeling\\venv\\lib\\site-packages\\urllib3\\response.py\u001b[0m in \u001b[0;36mread_chunked\u001b[1;34m(self, amt, decode_content)\u001b[0m\n\u001b[0;32m    693\u001b[0m             \u001b[1;32mif\u001b[0m \u001b[0mself\u001b[0m\u001b[1;33m.\u001b[0m\u001b[0m_original_response\u001b[0m\u001b[1;33m:\u001b[0m\u001b[1;33m\u001b[0m\u001b[1;33m\u001b[0m\u001b[0m\n\u001b[1;32m--> 694\u001b[1;33m                 \u001b[0mself\u001b[0m\u001b[1;33m.\u001b[0m\u001b[0m_original_response\u001b[0m\u001b[1;33m.\u001b[0m\u001b[0mclose\u001b[0m\u001b[1;33m(\u001b[0m\u001b[1;33m)\u001b[0m\u001b[1;33m\u001b[0m\u001b[1;33m\u001b[0m\u001b[0m\n\u001b[0m\u001b[0;32m    695\u001b[0m \u001b[1;33m\u001b[0m\u001b[0m\n",
      "\u001b[1;32mC:\\tools\\Python\\Python37\\lib\\contextlib.py\u001b[0m in \u001b[0;36m__exit__\u001b[1;34m(self, type, value, traceback)\u001b[0m\n\u001b[0;32m    129\u001b[0m             \u001b[1;32mtry\u001b[0m\u001b[1;33m:\u001b[0m\u001b[1;33m\u001b[0m\u001b[1;33m\u001b[0m\u001b[0m\n\u001b[1;32m--> 130\u001b[1;33m                 \u001b[0mself\u001b[0m\u001b[1;33m.\u001b[0m\u001b[0mgen\u001b[0m\u001b[1;33m.\u001b[0m\u001b[0mthrow\u001b[0m\u001b[1;33m(\u001b[0m\u001b[0mtype\u001b[0m\u001b[1;33m,\u001b[0m \u001b[0mvalue\u001b[0m\u001b[1;33m,\u001b[0m \u001b[0mtraceback\u001b[0m\u001b[1;33m)\u001b[0m\u001b[1;33m\u001b[0m\u001b[1;33m\u001b[0m\u001b[0m\n\u001b[0m\u001b[0;32m    131\u001b[0m             \u001b[1;32mexcept\u001b[0m \u001b[0mStopIteration\u001b[0m \u001b[1;32mas\u001b[0m \u001b[0mexc\u001b[0m\u001b[1;33m:\u001b[0m\u001b[1;33m\u001b[0m\u001b[1;33m\u001b[0m\u001b[0m\n",
      "\u001b[1;32mc:\\projects\\tvh-search-labeling\\venv\\lib\\site-packages\\urllib3\\response.py\u001b[0m in \u001b[0;36m_error_catcher\u001b[1;34m(self)\u001b[0m\n\u001b[0;32m    377\u001b[0m                 \u001b[1;31m# This includes IncompleteRead.\u001b[0m\u001b[1;33m\u001b[0m\u001b[1;33m\u001b[0m\u001b[1;33m\u001b[0m\u001b[0m\n\u001b[1;32m--> 378\u001b[1;33m                 \u001b[1;32mraise\u001b[0m \u001b[0mProtocolError\u001b[0m\u001b[1;33m(\u001b[0m\u001b[1;34m'Connection broken: %r'\u001b[0m \u001b[1;33m%\u001b[0m \u001b[0me\u001b[0m\u001b[1;33m,\u001b[0m \u001b[0me\u001b[0m\u001b[1;33m)\u001b[0m\u001b[1;33m\u001b[0m\u001b[1;33m\u001b[0m\u001b[0m\n\u001b[0m\u001b[0;32m    379\u001b[0m \u001b[1;33m\u001b[0m\u001b[0m\n",
      "\u001b[1;31mProtocolError\u001b[0m: (\"Connection broken: ConnectionAbortedError(10053, 'An established connection was aborted by the software in your host machine', None, 10053, None)\", ConnectionAbortedError(10053, 'An established connection was aborted by the software in your host machine', None, 10053, None))",
      "\nDuring handling of the above exception, another exception occurred:\n",
      "\u001b[1;31mChunkedEncodingError\u001b[0m                      Traceback (most recent call last)",
      "\u001b[1;32m<ipython-input-14-063f8ce148d7>\u001b[0m in \u001b[0;36m<module>\u001b[1;34m\u001b[0m\n\u001b[0;32m     28\u001b[0m                 \u001b[1;31m# check solr results comparison\u001b[0m\u001b[1;33m\u001b[0m\u001b[1;33m\u001b[0m\u001b[1;33m\u001b[0m\u001b[0m\n\u001b[0;32m     29\u001b[0m                     \u001b[0mres1\u001b[0m \u001b[1;33m=\u001b[0m \u001b[0msolr2\u001b[0m\u001b[1;33m.\u001b[0m\u001b[0msearch\u001b[0m\u001b[1;33m(\u001b[0m\u001b[1;34m'textsearch7'\u001b[0m\u001b[1;33m,\u001b[0m \u001b[0mq\u001b[0m\u001b[1;33m,\u001b[0m \u001b[1;34m'fr'\u001b[0m\u001b[1;33m)\u001b[0m\u001b[1;33m\u001b[0m\u001b[1;33m\u001b[0m\u001b[0m\n\u001b[1;32m---> 30\u001b[1;33m                     \u001b[0mres2\u001b[0m \u001b[1;33m=\u001b[0m \u001b[0msolr2\u001b[0m\u001b[1;33m.\u001b[0m\u001b[0msearch\u001b[0m\u001b[1;33m(\u001b[0m\u001b[1;34m'textsearch6'\u001b[0m\u001b[1;33m,\u001b[0m \u001b[0mq\u001b[0m\u001b[1;33m,\u001b[0m \u001b[1;34m'fr'\u001b[0m\u001b[1;33m)\u001b[0m\u001b[1;33m\u001b[0m\u001b[1;33m\u001b[0m\u001b[0m\n\u001b[0m\u001b[0;32m     31\u001b[0m                     \u001b[1;32mif\u001b[0m \u001b[0mabs\u001b[0m\u001b[1;33m(\u001b[0m\u001b[0mres1\u001b[0m\u001b[1;33m[\u001b[0m\u001b[1;34m'numFound'\u001b[0m\u001b[1;33m]\u001b[0m \u001b[1;33m-\u001b[0m \u001b[0mres2\u001b[0m\u001b[1;33m[\u001b[0m\u001b[1;34m'numFound'\u001b[0m\u001b[1;33m]\u001b[0m\u001b[1;33m)\u001b[0m\u001b[1;33m/\u001b[0m\u001b[0mmax\u001b[0m\u001b[1;33m(\u001b[0m\u001b[0mres1\u001b[0m\u001b[1;33m[\u001b[0m\u001b[1;34m'numFound'\u001b[0m\u001b[1;33m]\u001b[0m\u001b[1;33m,\u001b[0m \u001b[0mres2\u001b[0m\u001b[1;33m[\u001b[0m\u001b[1;34m'numFound'\u001b[0m\u001b[1;33m]\u001b[0m\u001b[1;33m,\u001b[0m\u001b[1;36m1\u001b[0m\u001b[1;33m)\u001b[0m\u001b[1;33m>\u001b[0m\u001b[1;36m0.01\u001b[0m\u001b[1;33m:\u001b[0m\u001b[1;33m\u001b[0m\u001b[1;33m\u001b[0m\u001b[0m\n\u001b[0;32m     32\u001b[0m                         \u001b[1;31m#res_q=solr2.search('textsearch7', q, 'fr')\u001b[0m\u001b[1;33m\u001b[0m\u001b[1;33m\u001b[0m\u001b[1;33m\u001b[0m\u001b[0m\n",
      "\u001b[1;32mc:\\Projects\\tvh-search-labeling\\notebooks\\solr_client.py\u001b[0m in \u001b[0;36msearch\u001b[1;34m(self, index, query, lang)\u001b[0m\n\u001b[0;32m     39\u001b[0m             \u001b[1;34m'textquery.query'\u001b[0m\u001b[1;33m:\u001b[0m \u001b[0mlang\u001b[0m\u001b[1;33m\u001b[0m\u001b[1;33m\u001b[0m\u001b[0m\n\u001b[0;32m     40\u001b[0m         }\n\u001b[1;32m---> 41\u001b[1;33m         \u001b[0mresp\u001b[0m \u001b[1;33m=\u001b[0m \u001b[0mrequests\u001b[0m\u001b[1;33m.\u001b[0m\u001b[0mget\u001b[0m\u001b[1;33m(\u001b[0m\u001b[1;34m'{}/{}/select'\u001b[0m\u001b[1;33m.\u001b[0m\u001b[0mformat\u001b[0m\u001b[1;33m(\u001b[0m\u001b[0mself\u001b[0m\u001b[1;33m.\u001b[0m\u001b[0msolr_base_ep\u001b[0m\u001b[1;33m,\u001b[0m \u001b[0mindex\u001b[0m\u001b[1;33m)\u001b[0m\u001b[1;33m,\u001b[0m \u001b[0mparams\u001b[0m\u001b[1;33m=\u001b[0m\u001b[0mparams\u001b[0m\u001b[1;33m,\u001b[0m \u001b[0mauth\u001b[0m\u001b[1;33m=\u001b[0m\u001b[1;33m(\u001b[0m\u001b[0mself\u001b[0m\u001b[1;33m.\u001b[0m\u001b[0musername\u001b[0m\u001b[1;33m,\u001b[0m \u001b[0mself\u001b[0m\u001b[1;33m.\u001b[0m\u001b[0mpassword\u001b[0m\u001b[1;33m)\u001b[0m\u001b[1;33m)\u001b[0m\u001b[1;33m\u001b[0m\u001b[1;33m\u001b[0m\u001b[0m\n\u001b[0m\u001b[0;32m     42\u001b[0m \u001b[1;33m\u001b[0m\u001b[0m\n\u001b[0;32m     43\u001b[0m         \u001b[0mresponse\u001b[0m \u001b[1;33m=\u001b[0m \u001b[0mresp\u001b[0m\u001b[1;33m.\u001b[0m\u001b[0mjson\u001b[0m\u001b[1;33m(\u001b[0m\u001b[1;33m)\u001b[0m\u001b[1;33m\u001b[0m\u001b[1;33m\u001b[0m\u001b[0m\n",
      "\u001b[1;32mc:\\projects\\tvh-search-labeling\\venv\\lib\\site-packages\\requests\\api.py\u001b[0m in \u001b[0;36mget\u001b[1;34m(url, params, **kwargs)\u001b[0m\n\u001b[0;32m     73\u001b[0m \u001b[1;33m\u001b[0m\u001b[0m\n\u001b[0;32m     74\u001b[0m     \u001b[0mkwargs\u001b[0m\u001b[1;33m.\u001b[0m\u001b[0msetdefault\u001b[0m\u001b[1;33m(\u001b[0m\u001b[1;34m'allow_redirects'\u001b[0m\u001b[1;33m,\u001b[0m \u001b[1;32mTrue\u001b[0m\u001b[1;33m)\u001b[0m\u001b[1;33m\u001b[0m\u001b[1;33m\u001b[0m\u001b[0m\n\u001b[1;32m---> 75\u001b[1;33m     \u001b[1;32mreturn\u001b[0m \u001b[0mrequest\u001b[0m\u001b[1;33m(\u001b[0m\u001b[1;34m'get'\u001b[0m\u001b[1;33m,\u001b[0m \u001b[0murl\u001b[0m\u001b[1;33m,\u001b[0m \u001b[0mparams\u001b[0m\u001b[1;33m=\u001b[0m\u001b[0mparams\u001b[0m\u001b[1;33m,\u001b[0m \u001b[1;33m**\u001b[0m\u001b[0mkwargs\u001b[0m\u001b[1;33m)\u001b[0m\u001b[1;33m\u001b[0m\u001b[1;33m\u001b[0m\u001b[0m\n\u001b[0m\u001b[0;32m     76\u001b[0m \u001b[1;33m\u001b[0m\u001b[0m\n\u001b[0;32m     77\u001b[0m \u001b[1;33m\u001b[0m\u001b[0m\n",
      "\u001b[1;32mc:\\projects\\tvh-search-labeling\\venv\\lib\\site-packages\\requests\\api.py\u001b[0m in \u001b[0;36mrequest\u001b[1;34m(method, url, **kwargs)\u001b[0m\n\u001b[0;32m     58\u001b[0m     \u001b[1;31m# cases, and look like a memory leak in others.\u001b[0m\u001b[1;33m\u001b[0m\u001b[1;33m\u001b[0m\u001b[1;33m\u001b[0m\u001b[0m\n\u001b[0;32m     59\u001b[0m     \u001b[1;32mwith\u001b[0m \u001b[0msessions\u001b[0m\u001b[1;33m.\u001b[0m\u001b[0mSession\u001b[0m\u001b[1;33m(\u001b[0m\u001b[1;33m)\u001b[0m \u001b[1;32mas\u001b[0m \u001b[0msession\u001b[0m\u001b[1;33m:\u001b[0m\u001b[1;33m\u001b[0m\u001b[1;33m\u001b[0m\u001b[0m\n\u001b[1;32m---> 60\u001b[1;33m         \u001b[1;32mreturn\u001b[0m \u001b[0msession\u001b[0m\u001b[1;33m.\u001b[0m\u001b[0mrequest\u001b[0m\u001b[1;33m(\u001b[0m\u001b[0mmethod\u001b[0m\u001b[1;33m=\u001b[0m\u001b[0mmethod\u001b[0m\u001b[1;33m,\u001b[0m \u001b[0murl\u001b[0m\u001b[1;33m=\u001b[0m\u001b[0murl\u001b[0m\u001b[1;33m,\u001b[0m \u001b[1;33m**\u001b[0m\u001b[0mkwargs\u001b[0m\u001b[1;33m)\u001b[0m\u001b[1;33m\u001b[0m\u001b[1;33m\u001b[0m\u001b[0m\n\u001b[0m\u001b[0;32m     61\u001b[0m \u001b[1;33m\u001b[0m\u001b[0m\n\u001b[0;32m     62\u001b[0m \u001b[1;33m\u001b[0m\u001b[0m\n",
      "\u001b[1;32mc:\\projects\\tvh-search-labeling\\venv\\lib\\site-packages\\requests\\sessions.py\u001b[0m in \u001b[0;36mrequest\u001b[1;34m(self, method, url, params, data, headers, cookies, files, auth, timeout, allow_redirects, proxies, hooks, stream, verify, cert, json)\u001b[0m\n\u001b[0;32m    531\u001b[0m         }\n\u001b[0;32m    532\u001b[0m         \u001b[0msend_kwargs\u001b[0m\u001b[1;33m.\u001b[0m\u001b[0mupdate\u001b[0m\u001b[1;33m(\u001b[0m\u001b[0msettings\u001b[0m\u001b[1;33m)\u001b[0m\u001b[1;33m\u001b[0m\u001b[1;33m\u001b[0m\u001b[0m\n\u001b[1;32m--> 533\u001b[1;33m         \u001b[0mresp\u001b[0m \u001b[1;33m=\u001b[0m \u001b[0mself\u001b[0m\u001b[1;33m.\u001b[0m\u001b[0msend\u001b[0m\u001b[1;33m(\u001b[0m\u001b[0mprep\u001b[0m\u001b[1;33m,\u001b[0m \u001b[1;33m**\u001b[0m\u001b[0msend_kwargs\u001b[0m\u001b[1;33m)\u001b[0m\u001b[1;33m\u001b[0m\u001b[1;33m\u001b[0m\u001b[0m\n\u001b[0m\u001b[0;32m    534\u001b[0m \u001b[1;33m\u001b[0m\u001b[0m\n\u001b[0;32m    535\u001b[0m         \u001b[1;32mreturn\u001b[0m \u001b[0mresp\u001b[0m\u001b[1;33m\u001b[0m\u001b[1;33m\u001b[0m\u001b[0m\n",
      "\u001b[1;32mc:\\projects\\tvh-search-labeling\\venv\\lib\\site-packages\\requests\\sessions.py\u001b[0m in \u001b[0;36msend\u001b[1;34m(self, request, **kwargs)\u001b[0m\n\u001b[0;32m    684\u001b[0m \u001b[1;33m\u001b[0m\u001b[0m\n\u001b[0;32m    685\u001b[0m         \u001b[1;32mif\u001b[0m \u001b[1;32mnot\u001b[0m \u001b[0mstream\u001b[0m\u001b[1;33m:\u001b[0m\u001b[1;33m\u001b[0m\u001b[1;33m\u001b[0m\u001b[0m\n\u001b[1;32m--> 686\u001b[1;33m             \u001b[0mr\u001b[0m\u001b[1;33m.\u001b[0m\u001b[0mcontent\u001b[0m\u001b[1;33m\u001b[0m\u001b[1;33m\u001b[0m\u001b[0m\n\u001b[0m\u001b[0;32m    687\u001b[0m \u001b[1;33m\u001b[0m\u001b[0m\n\u001b[0;32m    688\u001b[0m         \u001b[1;32mreturn\u001b[0m \u001b[0mr\u001b[0m\u001b[1;33m\u001b[0m\u001b[1;33m\u001b[0m\u001b[0m\n",
      "\u001b[1;32mc:\\projects\\tvh-search-labeling\\venv\\lib\\site-packages\\requests\\models.py\u001b[0m in \u001b[0;36mcontent\u001b[1;34m(self)\u001b[0m\n\u001b[0;32m    826\u001b[0m                 \u001b[0mself\u001b[0m\u001b[1;33m.\u001b[0m\u001b[0m_content\u001b[0m \u001b[1;33m=\u001b[0m \u001b[1;32mNone\u001b[0m\u001b[1;33m\u001b[0m\u001b[1;33m\u001b[0m\u001b[0m\n\u001b[0;32m    827\u001b[0m             \u001b[1;32melse\u001b[0m\u001b[1;33m:\u001b[0m\u001b[1;33m\u001b[0m\u001b[1;33m\u001b[0m\u001b[0m\n\u001b[1;32m--> 828\u001b[1;33m                 \u001b[0mself\u001b[0m\u001b[1;33m.\u001b[0m\u001b[0m_content\u001b[0m \u001b[1;33m=\u001b[0m \u001b[1;34mb''\u001b[0m\u001b[1;33m.\u001b[0m\u001b[0mjoin\u001b[0m\u001b[1;33m(\u001b[0m\u001b[0mself\u001b[0m\u001b[1;33m.\u001b[0m\u001b[0miter_content\u001b[0m\u001b[1;33m(\u001b[0m\u001b[0mCONTENT_CHUNK_SIZE\u001b[0m\u001b[1;33m)\u001b[0m\u001b[1;33m)\u001b[0m \u001b[1;32mor\u001b[0m \u001b[1;34mb''\u001b[0m\u001b[1;33m\u001b[0m\u001b[1;33m\u001b[0m\u001b[0m\n\u001b[0m\u001b[0;32m    829\u001b[0m \u001b[1;33m\u001b[0m\u001b[0m\n\u001b[0;32m    830\u001b[0m         \u001b[0mself\u001b[0m\u001b[1;33m.\u001b[0m\u001b[0m_content_consumed\u001b[0m \u001b[1;33m=\u001b[0m \u001b[1;32mTrue\u001b[0m\u001b[1;33m\u001b[0m\u001b[1;33m\u001b[0m\u001b[0m\n",
      "\u001b[1;32mc:\\projects\\tvh-search-labeling\\venv\\lib\\site-packages\\requests\\models.py\u001b[0m in \u001b[0;36mgenerate\u001b[1;34m()\u001b[0m\n\u001b[0;32m    751\u001b[0m                         \u001b[1;32myield\u001b[0m \u001b[0mchunk\u001b[0m\u001b[1;33m\u001b[0m\u001b[1;33m\u001b[0m\u001b[0m\n\u001b[0;32m    752\u001b[0m                 \u001b[1;32mexcept\u001b[0m \u001b[0mProtocolError\u001b[0m \u001b[1;32mas\u001b[0m \u001b[0me\u001b[0m\u001b[1;33m:\u001b[0m\u001b[1;33m\u001b[0m\u001b[1;33m\u001b[0m\u001b[0m\n\u001b[1;32m--> 753\u001b[1;33m                     \u001b[1;32mraise\u001b[0m \u001b[0mChunkedEncodingError\u001b[0m\u001b[1;33m(\u001b[0m\u001b[0me\u001b[0m\u001b[1;33m)\u001b[0m\u001b[1;33m\u001b[0m\u001b[1;33m\u001b[0m\u001b[0m\n\u001b[0m\u001b[0;32m    754\u001b[0m                 \u001b[1;32mexcept\u001b[0m \u001b[0mDecodeError\u001b[0m \u001b[1;32mas\u001b[0m \u001b[0me\u001b[0m\u001b[1;33m:\u001b[0m\u001b[1;33m\u001b[0m\u001b[1;33m\u001b[0m\u001b[0m\n\u001b[0;32m    755\u001b[0m                     \u001b[1;32mraise\u001b[0m \u001b[0mContentDecodingError\u001b[0m\u001b[1;33m(\u001b[0m\u001b[0me\u001b[0m\u001b[1;33m)\u001b[0m\u001b[1;33m\u001b[0m\u001b[1;33m\u001b[0m\u001b[0m\n",
      "\u001b[1;31mChunkedEncodingError\u001b[0m: (\"Connection broken: ConnectionAbortedError(10053, 'An established connection was aborted by the software in your host machine', None, 10053, None)\", ConnectionAbortedError(10053, 'An established connection was aborted by the software in your host machine', None, 10053, None))"
     ]
    }
   ],
   "source": [
    "import functools\n",
    "import re\n",
    "sum1=0\n",
    "sum2=0\n",
    "\n",
    "for filepath in listOfFiles:\n",
    "    file = os.path.basename(filepath)\n",
    "    lang = file.split('.')[0].split('_')[-1]\n",
    "    if not lang in ['en', 'fr', 'nl','de']:\n",
    "        lang='en'\n",
    "    print(file, lang)\n",
    "    queries = datasets[file]\n",
    "    for text in queries:  \n",
    "        q = re.sub(' +', ' ', text)\n",
    "        lemmas=toy_stemmer.stem_text(q)\n",
    "        spicyStems=spicy_stemmer.stem_text(q)\n",
    "        \n",
    "        for word in q.strip().split(' '):     \n",
    "            lemma = lemmas[word]\n",
    "            spicyStem=spicy_stemmer.stem_word(word)\n",
    "            if word in spicyStems.keys():\n",
    "                spicyStem=spicyStems[word]\n",
    "            porterStem=porterFr_stemmer.stem_word(word)\n",
    "            lemmaStem=porterFr_stemmer.stem_word(lemma)\n",
    "            if len(q)>2 and not lemmaStem == porterStem and spicyStem in fr_vocab_lemmas.keys():\n",
    "                solr_q_result=['','','','']\n",
    "                if (fr_vocab_lemmas[spicyStem]>100):\n",
    "                # check solr results comparison\n",
    "                    res1 = solr2.search('textsearch7', q, 'fr')\n",
    "                    res2 = solr2.search('textsearch6', q, 'fr')\n",
    "                    if abs(res1['numFound'] - res2['numFound'])/max(res1['numFound'], res2['numFound'],1)>0.01:\n",
    "                        #res_q=solr2.search('textsearch7', q, 'fr')\n",
    "                        solr_q_result=[str(res1['numFound']),str(res2['numFound']),'','HIGH']\n",
    "                        #print(q, res1['numFound'], res2['numFound'])\n",
    "                    sum1+=res1['numFound']\n",
    "                    sum2+=res2['numFound']\n",
    "\n",
    "                print(\",\".join([q,word, porterStem,lemma,str(fr_vocab_lemmas[spicyStem])] + solr_q_result))\n",
    "            #if not functools.reduce(lambda x, y: x and y, map(lambda a, b: a == b, list1, list2), True):\n",
    "                #print(\"Both List are same\")\n",
    "            #else:\n",
    "print(sum1,sum2)\n"
   ]
  },
  {
   "cell_type": "markdown",
   "metadata": {},
   "source": [
    "# Stemmers"
   ]
  },
  {
   "cell_type": "code",
   "execution_count": 4,
   "metadata": {},
   "outputs": [
    {
     "name": "stdout",
     "output_type": "stream",
     "text": [
      "Collecting nl-core-news-sm==3.4.0\n",
      "  Downloading https://github.com/explosion/spacy-models/releases/download/nl_core_news_sm-3.4.0/nl_core_news_sm-3.4.0-py3-none-any.whl (12.8 MB)\n",
      "Requirement already satisfied: spacy<3.5.0,>=3.4.0 in c:\\projects\\tvh-search-labeling\\venv\\lib\\site-packages (from nl-core-news-sm==3.4.0) (3.4.0)\n",
      "Requirement already satisfied: numpy>=1.15.0 in c:\\projects\\tvh-search-labeling\\venv\\lib\\site-packages (from spacy<3.5.0,>=3.4.0->nl-core-news-sm==3.4.0) (1.21.4)\n",
      "Requirement already satisfied: srsly<3.0.0,>=2.4.3 in c:\\projects\\tvh-search-labeling\\venv\\lib\\site-packages (from spacy<3.5.0,>=3.4.0->nl-core-news-sm==3.4.0) (2.4.3)\n",
      "Requirement already satisfied: pydantic!=1.8,!=1.8.1,<1.10.0,>=1.7.4 in c:\\projects\\tvh-search-labeling\\venv\\lib\\site-packages (from spacy<3.5.0,>=3.4.0->nl-core-news-sm==3.4.0) (1.9.1)\n",
      "Requirement already satisfied: catalogue<2.1.0,>=2.0.6 in c:\\projects\\tvh-search-labeling\\venv\\lib\\site-packages (from spacy<3.5.0,>=3.4.0->nl-core-news-sm==3.4.0) (2.0.7)\n",
      "Requirement already satisfied: requests<3.0.0,>=2.13.0 in c:\\projects\\tvh-search-labeling\\venv\\lib\\site-packages (from spacy<3.5.0,>=3.4.0->nl-core-news-sm==3.4.0) (2.21.0)\n",
      "Requirement already satisfied: spacy-loggers<2.0.0,>=1.0.0 in c:\\projects\\tvh-search-labeling\\venv\\lib\\site-packages (from spacy<3.5.0,>=3.4.0->nl-core-news-sm==3.4.0) (1.0.3)\n",
      "Requirement already satisfied: wasabi<1.1.0,>=0.9.1 in c:\\projects\\tvh-search-labeling\\venv\\lib\\site-packages (from spacy<3.5.0,>=3.4.0->nl-core-news-sm==3.4.0) (0.9.1)\n",
      "Requirement already satisfied: langcodes<4.0.0,>=3.2.0 in c:\\projects\\tvh-search-labeling\\venv\\lib\\site-packages (from spacy<3.5.0,>=3.4.0->nl-core-news-sm==3.4.0) (3.3.0)\n",
      "Requirement already satisfied: tqdm<5.0.0,>=4.38.0 in c:\\projects\\tvh-search-labeling\\venv\\lib\\site-packages (from spacy<3.5.0,>=3.4.0->nl-core-news-sm==3.4.0) (4.43.0)\n",
      "Requirement already satisfied: spacy-legacy<3.1.0,>=3.0.9 in c:\\projects\\tvh-search-labeling\\venv\\lib\\site-packages (from spacy<3.5.0,>=3.4.0->nl-core-news-sm==3.4.0) (3.0.9)\n",
      "Requirement already satisfied: pathy>=0.3.5 in c:\\projects\\tvh-search-labeling\\venv\\lib\\site-packages (from spacy<3.5.0,>=3.4.0->nl-core-news-sm==3.4.0) (0.6.2)\n",
      "Requirement already satisfied: murmurhash<1.1.0,>=0.28.0 in c:\\projects\\tvh-search-labeling\\venv\\lib\\site-packages (from spacy<3.5.0,>=3.4.0->nl-core-news-sm==3.4.0) (1.0.7)\n",
      "Requirement already satisfied: thinc<8.2.0,>=8.1.0 in c:\\projects\\tvh-search-labeling\\venv\\lib\\site-packages (from spacy<3.5.0,>=3.4.0->nl-core-news-sm==3.4.0) (8.1.0)\n",
      "Requirement already satisfied: packaging>=20.0 in c:\\projects\\tvh-search-labeling\\venv\\lib\\site-packages (from spacy<3.5.0,>=3.4.0->nl-core-news-sm==3.4.0) (21.3)\n"
     ]
    },
    {
     "name": "stderr",
     "output_type": "stream",
     "text": [
      "WARNING: You are using pip version 21.3.1; however, version 22.2 is available.\n",
      "You should consider upgrading via the 'c:\\Projects\\tvh-search-labeling\\venv\\Scripts\\python.exe -m pip install --upgrade pip' command.\n"
     ]
    },
    {
     "name": "stdout",
     "output_type": "stream",
     "text": [
      "Requirement already satisfied: setuptools in c:\\projects\\tvh-search-labeling\\venv\\lib\\site-packages (from spacy<3.5.0,>=3.4.0->nl-core-news-sm==3.4.0) (59.1.0)\n",
      "Requirement already satisfied: cymem<2.1.0,>=2.0.2 in c:\\projects\\tvh-search-labeling\\venv\\lib\\site-packages (from spacy<3.5.0,>=3.4.0->nl-core-news-sm==3.4.0) (2.0.6)\n",
      "Requirement already satisfied: jinja2 in c:\\projects\\tvh-search-labeling\\venv\\lib\\site-packages (from spacy<3.5.0,>=3.4.0->nl-core-news-sm==3.4.0) (2.10)\n",
      "Requirement already satisfied: typer<0.5.0,>=0.3.0 in c:\\projects\\tvh-search-labeling\\venv\\lib\\site-packages (from spacy<3.5.0,>=3.4.0->nl-core-news-sm==3.4.0) (0.4.2)\n",
      "Requirement already satisfied: typing-extensions<4.2.0,>=3.7.4 in c:\\projects\\tvh-search-labeling\\venv\\lib\\site-packages (from spacy<3.5.0,>=3.4.0->nl-core-news-sm==3.4.0) (3.10.0.2)\n",
      "Requirement already satisfied: preshed<3.1.0,>=3.0.2 in c:\\projects\\tvh-search-labeling\\venv\\lib\\site-packages (from spacy<3.5.0,>=3.4.0->nl-core-news-sm==3.4.0) (3.0.6)\n",
      "Requirement already satisfied: zipp>=0.5 in c:\\projects\\tvh-search-labeling\\venv\\lib\\site-packages (from catalogue<2.1.0,>=2.0.6->spacy<3.5.0,>=3.4.0->nl-core-news-sm==3.4.0) (3.8.1)\n",
      "Requirement already satisfied: pyparsing!=3.0.5,>=2.0.2 in c:\\projects\\tvh-search-labeling\\venv\\lib\\site-packages (from packaging>=20.0->spacy<3.5.0,>=3.4.0->nl-core-news-sm==3.4.0) (2.4.6)\n",
      "Requirement already satisfied: smart-open<6.0.0,>=5.2.1 in c:\\projects\\tvh-search-labeling\\venv\\lib\\site-packages (from pathy>=0.3.5->spacy<3.5.0,>=3.4.0->nl-core-news-sm==3.4.0) (5.2.1)\n",
      "Requirement already satisfied: urllib3<1.25,>=1.21.1 in c:\\projects\\tvh-search-labeling\\venv\\lib\\site-packages (from requests<3.0.0,>=2.13.0->spacy<3.5.0,>=3.4.0->nl-core-news-sm==3.4.0) (1.24.1)\n",
      "Requirement already satisfied: chardet<3.1.0,>=3.0.2 in c:\\projects\\tvh-search-labeling\\venv\\lib\\site-packages (from requests<3.0.0,>=2.13.0->spacy<3.5.0,>=3.4.0->nl-core-news-sm==3.4.0) (3.0.4)\n",
      "Requirement already satisfied: certifi>=2017.4.17 in c:\\projects\\tvh-search-labeling\\venv\\lib\\site-packages (from requests<3.0.0,>=2.13.0->spacy<3.5.0,>=3.4.0->nl-core-news-sm==3.4.0) (2019.6.16)\n",
      "Requirement already satisfied: idna<2.9,>=2.5 in c:\\projects\\tvh-search-labeling\\venv\\lib\\site-packages (from requests<3.0.0,>=2.13.0->spacy<3.5.0,>=3.4.0->nl-core-news-sm==3.4.0) (2.8)\n",
      "Requirement already satisfied: blis<0.8.0,>=0.7.8 in c:\\projects\\tvh-search-labeling\\venv\\lib\\site-packages (from thinc<8.2.0,>=8.1.0->spacy<3.5.0,>=3.4.0->nl-core-news-sm==3.4.0) (0.7.8)\n",
      "Requirement already satisfied: click<9.0.0,>=7.1.1 in c:\\projects\\tvh-search-labeling\\venv\\lib\\site-packages (from typer<0.5.0,>=0.3.0->spacy<3.5.0,>=3.4.0->nl-core-news-sm==3.4.0) (8.1.3)\n",
      "Requirement already satisfied: MarkupSafe>=0.23 in c:\\projects\\tvh-search-labeling\\venv\\lib\\site-packages (from jinja2->spacy<3.5.0,>=3.4.0->nl-core-news-sm==3.4.0) (1.1.1)\n",
      "Requirement already satisfied: colorama in c:\\projects\\tvh-search-labeling\\venv\\lib\\site-packages (from click<9.0.0,>=7.1.1->typer<0.5.0,>=0.3.0->spacy<3.5.0,>=3.4.0->nl-core-news-sm==3.4.0) (0.4.4)\n",
      "Requirement already satisfied: importlib-metadata in c:\\projects\\tvh-search-labeling\\venv\\lib\\site-packages (from click<9.0.0,>=7.1.1->typer<0.5.0,>=0.3.0->spacy<3.5.0,>=3.4.0->nl-core-news-sm==3.4.0) (4.12.0)\n",
      "Installing collected packages: nl-core-news-sm\n",
      "Successfully installed nl-core-news-sm-3.4.0\n",
      "[+] Download and installation successful\n",
      "You can now load the package via spacy.load('nl_core_news_sm')\n"
     ]
    }
   ],
   "source": [
    "!python -m spacy download nl_core_news_sm\n",
    "!python -m spacy download fr_core_news_md"
   ]
  },
  {
   "cell_type": "code",
   "execution_count": 1,
   "metadata": {},
   "outputs": [
    {
     "name": "stdout",
     "output_type": "stream",
     "text": [
      "TruncateStem1\n",
      "trou\n",
      "long\n",
      "trous\n",
      "long-metrag\n",
      "{'barre': 'barre', 'a': 'avoir', 'trous': 'trou'}\n",
      "{'barre': 'barre', 'a': 'avoir', 'trous': 'trou'}\n",
      "accessoires\n",
      "accessoire\n",
      "accessoire\n"
     ]
    }
   ],
   "source": [
    "import spacy\n",
    "from solr_client import SolrClient\n",
    "from stemmers import Stemmer\n",
    "from stemmers import SpicyStemmer\n",
    "from stemmers import TruncateStem\n",
    "\n",
    "\n",
    "    \n",
    "solr1 = SolrClient('localhost',8986)\n",
    "\n",
    "#French stemmers\n",
    "toy_stemmer = Stemmer(solr1, index = 'textsearch', fieldtype='query', field = 'text_nlp_fr_z', name = 'FR nlp')\n",
    "lightFr_stemmer = Stemmer(solr1, index = 'textsearch', fieldtype='query', field = 'text_test_fr_z', name = 'FR LightFr')\n",
    "porterFr_stemmer = Stemmer(solr1, index = 'textsearch', fieldtype='fieldvalue', field = 'text_test_fr_z', name = 'FR Porter')\n",
    "spicy_stemmer = SpicyStemmer('fr_core_news_md', name = 'FR spicy')\n",
    "\n",
    "# Dutch stemmers\n",
    "porterNL_stemmer = Stemmer(solr1, index = 'textsearch', fieldtype='query', field = 'text_test_nl_z', name='NL Porter')\n",
    "spicyNL_stemmer = SpicyStemmer('nl_core_news_sm', name='NL spicy')\n",
    "nl_stemmer = Stemmer(solr1, index = 'textsearch', fieldtype='query', field = 'text_nlp_nl_z', name='NL nlp')\n",
    "\n",
    "# Truncate stemmers (remove last N characters)\n",
    "trunc_stemmers = [TruncateStem(i) for i in list(range(1, 7))]\n",
    "print (trunc_stemmers[0].name)\n",
    "\n",
    "print(toy_stemmer.stem_word(\"trous\"))\n",
    "print(spicy_stemmer.stem_word(\"long-métrage\"))\n",
    "print(lightFr_stemmer.stem_word(\"trous\"))\n",
    "print(porterFr_stemmer.stem_word(\"long-métrage\"))\n",
    "\n",
    "print(toy_stemmer.stem_text(\"barre a trous\"))\n",
    "print(spicy_stemmer.stem_text(\"barre a trous\"))\n",
    "\n",
    "print(porterNL_stemmer.stem_word(\"accessoires\"))\n",
    "print(spicyNL_stemmer.stem_word(\"accessoires\"))\n",
    "print(nl_stemmer.stem_word(\"accessoires\"))\n",
    "\n",
    "#Stemmers to test\n",
    "#stemmers=[porterNL_stemmer, spicyNL_stemmer, nl_stemmer]\n",
    "#stemmers=[toy_stemmer, spicy_stemmer, lightFr_stemmer, porterFr_stemmer]\n",
    "stemmers=[]\n",
    "\n",
    "stemmers+=trunc_stemmers"
   ]
  },
  {
   "cell_type": "code",
   "execution_count": 13,
   "metadata": {},
   "outputs": [
    {
     "ename": "TypeError",
     "evalue": "<lambda>() missing 1 required positional argument: 'a'",
     "output_type": "error",
     "traceback": [
      "\u001b[1;31m---------------------------------------------------------------------------\u001b[0m",
      "\u001b[1;31mTypeError\u001b[0m                                 Traceback (most recent call last)",
      "\u001b[1;32m<ipython-input-13-292a4cd45664>\u001b[0m in \u001b[0;36m<module>\u001b[1;34m\u001b[0m\n\u001b[0;32m      1\u001b[0m \u001b[0mspicyStems\u001b[0m\u001b[1;33m=\u001b[0m\u001b[0mdefaultdict\u001b[0m\u001b[1;33m(\u001b[0m\u001b[1;32mlambda\u001b[0m \u001b[0ma\u001b[0m\u001b[1;33m:\u001b[0m\u001b[0mspicy_stemmer\u001b[0m\u001b[1;33m.\u001b[0m\u001b[0mstem_word\u001b[0m\u001b[1;33m(\u001b[0m\u001b[0ma\u001b[0m\u001b[1;33m)\u001b[0m\u001b[1;33m,\u001b[0m\u001b[0mspicy_stemmer\u001b[0m\u001b[1;33m.\u001b[0m\u001b[0mstem_text\u001b[0m\u001b[1;33m(\u001b[0m\u001b[1;34m\"d'alimentation\"\u001b[0m\u001b[1;33m)\u001b[0m\u001b[1;33m)\u001b[0m\u001b[1;33m\u001b[0m\u001b[1;33m\u001b[0m\u001b[0m\n\u001b[0;32m      2\u001b[0m \u001b[1;33m\u001b[0m\u001b[0m\n\u001b[1;32m----> 3\u001b[1;33m \u001b[0mspicyStems\u001b[0m\u001b[1;33m[\u001b[0m\u001b[1;34m\"d'alimentation\"\u001b[0m\u001b[1;33m]\u001b[0m\u001b[1;33m\u001b[0m\u001b[1;33m\u001b[0m\u001b[0m\n\u001b[0m\u001b[0;32m      4\u001b[0m \u001b[0mprint\u001b[0m\u001b[1;33m(\u001b[0m\u001b[0mspicy_stemmer\u001b[0m\u001b[1;33m.\u001b[0m\u001b[0mstem_text\u001b[0m\u001b[1;33m(\u001b[0m\u001b[1;34m\"d'alimentation\"\u001b[0m\u001b[1;33m)\u001b[0m\u001b[1;33m)\u001b[0m\u001b[1;33m\u001b[0m\u001b[1;33m\u001b[0m\u001b[0m\n",
      "\u001b[1;31mTypeError\u001b[0m: <lambda>() missing 1 required positional argument: 'a'"
     ]
    }
   ],
   "source": [
    "spicyStems=defaultdict(lambda a:spicy_stemmer.stem_word(a),spicy_stemmer.stem_text(\"d'alimentation\"))\n",
    "        \n",
    "spicyStems[\"d'alimentation\"]        \n",
    "print(spicy_stemmer.stem_text(\"d'alimentation\"))"
   ]
  },
  {
   "cell_type": "markdown",
   "metadata": {},
   "source": [
    "## Calculate understemming/ overstemming metrics"
   ]
  },
  {
   "cell_type": "code",
   "execution_count": 3,
   "metadata": {},
   "outputs": [],
   "source": [
    "lang='fr'\n",
    "\n",
    "with open('concept_groups_{0}.txt'.format(lang), 'r',encoding='utf8') as file:\n",
    "    concept_groups = [line.rstrip('\\n').split(\",\") for line in file.readlines()]"
   ]
  },
  {
   "cell_type": "code",
   "execution_count": 4,
   "metadata": {},
   "outputs": [
    {
     "name": "stdout",
     "output_type": "stream",
     "text": [
      "GDMT =  1898.0\n",
      "GDNT =  8967832.0\n"
     ]
    }
   ],
   "source": [
    "\n",
    "#concept_groups = concept_groups[0:10]\n",
    "def GDMT(cg):\n",
    "    gdmt = 0\n",
    "    for g in cg:\n",
    "        ng = len(g)\n",
    "        gdmt += 0.5 * ng * (ng-1)\n",
    "    return gdmt\n",
    "\n",
    "def GDNT(cg):\n",
    "    gdnt = 0\n",
    "    W = sum([len(g) for g in cg])\n",
    "    for g in cg:\n",
    "        ng = len(g)\n",
    "        gdnt += 0.5 * ng * (W-ng)\n",
    "    return gdnt\n",
    "\n",
    "print (\"GDMT = \", GDMT(concept_groups))\n",
    "print (\"GDNT = \" , GDNT(concept_groups))"
   ]
  },
  {
   "cell_type": "code",
   "execution_count": 5,
   "metadata": {},
   "outputs": [
    {
     "name": "stdout",
     "output_type": "stream",
     "text": [
      "TruncateStem1 Understemming Error = 99.42%\n",
      "TruncateStem2 Understemming Error = 98.63%\n",
      "TruncateStem3 Understemming Error = 98.26%\n",
      "TruncateStem4 Understemming Error = 92.31%\n"
     ]
    }
   ],
   "source": [
    "from collections import Counter\n",
    "def GUMT(cg, stemmer, debug=False):\n",
    "    gumt = 0\n",
    "    for g in cg:\n",
    "        if debug:\n",
    "            print(\"For group \" , repr(g) )\n",
    "        stems = stemmer.stem_words(g)\n",
    "        ng = len(g)\n",
    "        unique_stems = Counter(stems)\n",
    "        if debug:\n",
    "            print(\"Unique stems with their instances are: \" ,\n",
    "             repr(dict(unique_stems)))\n",
    "        umt = 0\n",
    "        for unique_stem, count in unique_stems.items():\n",
    "            umt += 0.5 * count * (ng-count)\n",
    "        gumt += umt\n",
    "        if debug:\n",
    "            print(\"Unmerged concept pairs in this group = \", umt)\n",
    "\n",
    "    return gumt\n",
    "\n",
    "def UI(cg, stemmer):\n",
    "    return GUMT(cg, stemmer)/GDMT(cg)\n",
    "\n",
    "for stemmer in stemmers:\n",
    "    print(stemmer.name, \"Understemming Error = %.2f%%\" % (UI(concept_groups, stemmer)*100))\n",
    "#print(\"nlp GUMT = \", GUMT(concept_groups,toy_stemmer, False))\n",
    "#print(\"spicy GUMT = \", GUMT(concept_groups,spicy_stemmer, False))\n",
    "#print(\"light GUMT = \", GUMT(concept_groups,lightFr_stemmer, False))\n",
    "#print(\"porter GUMT = \", GUMT(concept_groups,porterFr_stemmer, False))\n"
   ]
  },
  {
   "cell_type": "code",
   "execution_count": 12,
   "metadata": {},
   "outputs": [
    {
     "name": "stdout",
     "output_type": "stream",
     "text": [
      "TruncateStem1 Understemming Error = 99.42%\n",
      "TruncateStem2 Understemming Error = 98.63%\n",
      "TruncateStem3 Understemming Error = 98.26%\n",
      "TruncateStem4 Understemming Error = 92.31%\n",
      "TruncateStem5 Understemming Error = 82.56%\n",
      "TruncateStem6 Understemming Error = 67.02%\n"
     ]
    }
   ],
   "source": [
    "def UI(cg, stemmer):\n",
    "    return GUMT(cg, stemmer)/GDMT(cg)\n",
    "\n",
    "for stemmer in stemmers:\n",
    "    print(stemmer.name, \"Understemming Error = %.2f%%\" % (UI(concept_groups, stemmer)*100))\n",
    "\n",
    "#print(\"Understemming Error = %.2f%%\" % (UI(concept_groups, toy_stemmer)*100))\n",
    "#print(\"Spicy Understemming Error = %.2f%%\" % (UI(concept_groups, spicy_stemmer)*100))\n",
    "#print(\"Light French Understemming Error = %.2f%%\" % (UI(concept_groups, lightFr_stemmer)*100))\n",
    "#print(\"Porter Understemming Error = %.2f%%\" % (UI(concept_groups, porterFr_stemmer)*100))"
   ]
  },
  {
   "cell_type": "code",
   "execution_count": 6,
   "metadata": {},
   "outputs": [
    {
     "data": {
      "text/plain": [
       "'p'"
      ]
     },
     "execution_count": 6,
     "metadata": {},
     "output_type": "execute_result"
    }
   ],
   "source": [
    "stemmers[2].stem_word('pana')"
   ]
  },
  {
   "cell_type": "code",
   "execution_count": 8,
   "metadata": {},
   "outputs": [],
   "source": [
    "from collections import defaultdict\n",
    "from json import dumps\n",
    "\n",
    "def stem_groups(cg, stm):\n",
    "    \"\"\"\n",
    "    cg is the concept group\n",
    "    stm is the stemmer\n",
    "    \"\"\"\n",
    "    stem_group = defaultdict(list)\n",
    "    stem_group_inverted_cg = defaultdict(list)\n",
    "    for idx, g in enumerate(cg):\n",
    "        for word in g:\n",
    "            stem = stm.stem_word(word)\n",
    "            stem_group[stem].append(word)\n",
    "            #if len(stem_group_inverted_cg[stem])>0 and not str(idx) in stem_group_inverted_cg[stem]:\n",
    "             #   print(\"overstemming case:\",word,stem, ' '.join(str(stem_group_inverted_cg[stem])), str(idx)) \n",
    "            stem_group_inverted_cg[stem].append(str(idx))\n",
    "    return stem_group, stem_group_inverted_cg\n",
    "\n",
    "#print(dumps(stem_groups(concept_groups, porterFr_stemmer), indent=4))"
   ]
  },
  {
   "cell_type": "code",
   "execution_count": 13,
   "metadata": {},
   "outputs": [
    {
     "name": "stdout",
     "output_type": "stream",
     "text": [
      "TruncateStem1 Overstemming Error = 0.0036%\n",
      "TruncateStem2 Overstemming Error = 0.0289%\n",
      "TruncateStem3 Overstemming Error = 0.3008%\n",
      "TruncateStem4 Overstemming Error = 2.0770%\n",
      "TruncateStem5 Overstemming Error = 7.6879%\n",
      "TruncateStem6 Overstemming Error = 18.3915%\n"
     ]
    }
   ],
   "source": [
    "from collections import Counter\n",
    "def GWMT(stem_group, stem_group_inverted_cg, debug=False):\n",
    "    gwmt = 0\n",
    "    for sg_key in stem_group.keys():\n",
    "        g = stem_group[sg_key]\n",
    "        if debug:\n",
    "            print(\"For group \" , repr(g) )\n",
    "        ng = len(g)\n",
    "        unique_stems = Counter( stem_group_inverted_cg[sg_key])\n",
    "        if debug:\n",
    "            print(\"Unique cg with their instances are: \" ,\n",
    "             repr(dict(unique_stems)))\n",
    "        wmt = 0\n",
    "        for unique_stem, count in unique_stems.items():\n",
    "            wmt += 0.5 * count * (ng-count)\n",
    "        gwmt += wmt\n",
    "        if debug:\n",
    "            print(\"Overmerged concept pairs in this group = \", wmt)\n",
    "\n",
    "    return gwmt\n",
    "\n",
    "def WI(cg, stm):\n",
    "    stem_group, stem_group_inverted_cg = stem_groups(cg,stm)\n",
    "    return GWMT(stem_group, stem_group_inverted_cg)/GDNT(cg)\n",
    "for stemmer in stemmers:\n",
    "    print(stemmer.name, \"Overstemming Error = %.4f%%\" % (WI(concept_groups,  stemmer)*100))\n",
    "#print(\"Overstemming Error = %.4f%%\" % (WI(concept_groups,  toy_stemmer)*100))\n",
    "#print(\"Spicy Overstemming Error = %.4f%%\" % (WI(concept_groups,  spicy_stemmer)*100))\n",
    "#print(\"LightFr Overstemming Error = %.4f%%\" % (WI(concept_groups,  lightFr_stemmer)*100))\n",
    "#print(\"Porter Overstemming Error = %.4f%%\" % (WI(concept_groups,  porterFr_stemmer)*100))\n",
    "#print(\"Spicy Understemming Error = %.2f%%\" % (UI(concept_groups, spicy_stemmer)*100))\n",
    "#print(\"Light French Understemming Error = %.2f%%\" % (UI(concept_groups, lightFr_stemmer)*100))\n",
    "#print(\"Porter Understemming Error = %.2f%%\" % (UI(concept_groups, porterFr_stemmer)*100))"
   ]
  },
  {
   "cell_type": "code",
   "execution_count": null,
   "metadata": {},
   "outputs": [],
   "source": []
  }
 ],
 "metadata": {
  "kernelspec": {
   "display_name": "Python 3",
   "language": "python",
   "name": "python3"
  },
  "language_info": {
   "codemirror_mode": {
    "name": "ipython",
    "version": 3
   },
   "file_extension": ".py",
   "mimetype": "text/x-python",
   "name": "python",
   "nbconvert_exporter": "python",
   "pygments_lexer": "ipython3",
   "version": "3.7.6"
  }
 },
 "nbformat": 4,
 "nbformat_minor": 2
}
